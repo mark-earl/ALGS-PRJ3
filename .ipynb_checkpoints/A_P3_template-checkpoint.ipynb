{
 "cells": [
  {
   "cell_type": "code",
   "execution_count": 1,
   "id": "f7560448",
   "metadata": {},
   "outputs": [],
   "source": [
    "# DO NOT modify this cell.\n",
    "filename = \"Buchtel.pgm\"\n",
    "verticalSeam2Remove = 10\n",
    "horizontalSeam2Remove = 8\n",
    "\n",
    "# Yes, you can create your own test cases and you should. Do it in a new cell."
   ]
  },
  {
   "cell_type": "code",
   "execution_count": null,
   "id": "b0ce0a29",
   "metadata": {},
   "outputs": [],
   "source": [
    "import numpy as np\n",
    "import imageio\n",
    "\n",
    "def calculate_energy(image):\n",
    "    \"\"\"Calculate energy of each pixel in the image.\"\"\"\n",
    "    gray_image = np.mean(image, axis=2)  # Convert to grayscale\n",
    "    gradient_x = np.gradient(gray_image, axis=0)\n",
    "    gradient_y = np.gradient(gray_image, axis=1)\n",
    "    energy = np.sqrt(gradient_x**2 + gradient_y**2)\n",
    "    return energy\n",
    "\n",
    "def find_vertical_seam(energy):\n",
    "    \"\"\"Find the vertical seam with the lowest energy using dynamic programming.\"\"\"\n",
    "    rows, cols = energy.shape\n",
    "    seam = []\n",
    "\n",
    "    # Initialize DP table for cumulative minimum energy\n",
    "    dp = np.zeros_like(energy)\n",
    "    dp[0] = energy[0]\n",
    "\n",
    "    # Compute minimum energy seam path\n",
    "    for i in range(1, rows):\n",
    "        for j in range(cols):\n",
    "            # Find the minimum cumulative energy from the top\n",
    "            if j == 0:\n",
    "                dp[i, j] = energy[i, j] + min(dp[i-1, j], dp[i-1, j+1])\n",
    "            elif j == cols - 1:\n",
    "                dp[i, j] = energy[i, j] + min(dp[i-1, j-1], dp[i-1, j])\n",
    "            else:\n",
    "                dp[i, j] = energy[i, j] + min(dp[i-1, j-1], dp[i-1, j], dp[i-1, j+1])\n",
    "\n",
    "    # Trace back the path of the minimum seam\n",
    "    min_energy_index = np.argmin(dp[-1])\n",
    "    seam.append(min_energy_index)\n",
    "\n",
    "    for i in range(rows - 2, -1, -1):\n",
    "        prev_index = seam[-1]\n",
    "        if prev_index == 0:\n",
    "            next_index = np.argmin(dp[i, prev_index:i+2])\n",
    "        else:\n",
    "            next_index = np.argmin(dp[i, prev_index-1:prev_index+2]) + prev_index - 1\n",
    "        seam.append(next_index)\n",
    "\n",
    "    seam.reverse()\n",
    "    return seam\n",
    "\n",
    "def remove_vertical_seam(image, seam):\n",
    "    \"\"\"Remove the vertical seam from the image.\"\"\"\n",
    "    rows, cols, _ = image.shape\n",
    "    new_image = np.zeros((rows, cols - 1, 3), dtype=np.uint8)\n",
    "\n",
    "    for i in range(rows):\n",
    "        new_image[i, :, :] = np.delete(image[i, :, :], seam[i], axis=0)\n",
    "\n",
    "    return new_image\n",
    "\n",
    "def seam_carve(image_path, num_seams):\n",
    "    \"\"\"Perform seam carving on the image.\"\"\"\n",
    "    image = imageio.imread(image_path)\n",
    "\n",
    "    for _ in range(num_seams):\n",
    "        energy = calculate_energy(image)\n",
    "        seam = find_vertical_seam(energy)\n",
    "        image = remove_vertical_seam(image, seam)\n",
    "\n",
    "    return image"
   ]
  },
  {
   "cell_type": "code",
   "execution_count": 2,
   "id": "dad37c88",
   "metadata": {},
   "outputs": [
    {
     "name": "stdout",
     "output_type": "stream",
     "text": [
      "Buchtel_processed_10_0.pgm\n"
     ]
    }
   ],
   "source": [
    "# Import required libraries\n",
    "import os\n",
    "\n",
    "# Function to process image seams and save the result\n",
    "def process_image(image_filename, num_seams):\n",
    "    # Process the image\n",
    "    processed_image = seam_carve(image_filename, num_seams)\n",
    "\n",
    "    # Save the processed image\n",
    "    base_filename, ext = os.path.splitext(image_filename)\n",
    "    output_filename = f\"{base_filename}_processed_{num_seams}_0{ext}\"\n",
    "    imageio.imwrite(output_filename, processed_image)\n",
    "    print(f\"Processed image saved as: {output_filename}\")\n",
    "\n",
    "# User inputs\n",
    "image_filename = input(\"Enter the image file name: \")\n",
    "num_seams = int(input(\"Enter the number of vertical seams to remove: \"))\n",
    "\n",
    "# Process the image\n",
    "process_image(image_filename, num_seams)\n"
   ]
  },
  {
   "cell_type": "code",
   "execution_count": 3,
   "id": "f3da3f06",
   "metadata": {},
   "outputs": [
    {
     "name": "stdout",
     "output_type": "stream",
     "text": [
      "Buchtel_processed_10_8.pgm\n"
     ]
    }
   ],
   "source": [
    "# Part II : both vertical and horizontal seams removal\n",
    "# Save your processed file to img_processed_v_h.pgm\n",
    "filename2 = filename.split(\".\")[0]+\"_processed_\"+ \\\n",
    "            str(verticalSeam2Remove)+\"_\"+str(horizontalSeam2Remove)+\".pgm\"\n",
    "print(filename2)\n",
    "\n",
    "# your code, add cells as you need"
   ]
  },
  {
   "cell_type": "code",
   "execution_count": null,
   "id": "9c1c9ee8",
   "metadata": {},
   "outputs": [],
   "source": []
  },
  {
   "cell_type": "code",
   "execution_count": 4,
   "id": "4dae7220",
   "metadata": {},
   "outputs": [],
   "source": [
    "# This is for graduate students only\n",
    "filenameG = \"flower.ppm\"\n",
    "vSeam2Remove = 20\n",
    "hSeam2Remove = 25"
   ]
  },
  {
   "cell_type": "code",
   "execution_count": 5,
   "id": "03fb8420",
   "metadata": {},
   "outputs": [
    {
     "name": "stdout",
     "output_type": "stream",
     "text": [
      "flower_processed_20_25.ppm\n"
     ]
    }
   ],
   "source": [
    "# This is for graduate students only\n",
    "# Part III : color img in ppm\n",
    "filenameG2 = filenameG.split(\".\")[0]+\"_processed_\"+ \\\n",
    "            str(vSeam2Remove)+\"_\"+str(hSeam2Remove)+\".ppm\"\n",
    "print(filenameG2)\n",
    "# your code, add cells as you need"
   ]
  },
  {
   "cell_type": "code",
   "execution_count": null,
   "id": "7e1dff58",
   "metadata": {},
   "outputs": [],
   "source": []
  }
 ],
 "metadata": {
  "kernelspec": {
   "display_name": "Python 3 (ipykernel)",
   "language": "python",
   "name": "python3"
  },
  "language_info": {
   "codemirror_mode": {
    "name": "ipython",
    "version": 3
   },
   "file_extension": ".py",
   "mimetype": "text/x-python",
   "name": "python",
   "nbconvert_exporter": "python",
   "pygments_lexer": "ipython3",
   "version": "3.10.9"
  }
 },
 "nbformat": 4,
 "nbformat_minor": 5
}
