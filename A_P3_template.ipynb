{
 "cells": [
  {
   "cell_type": "code",
   "execution_count": 1,
   "id": "f7560448",
   "metadata": {},
   "outputs": [],
   "source": [
    "# DO NOT modify this cell.\n",
    "filename = \"Buchtel.pgm\"\n",
    "verticalSeam2Remove = 10\n",
    "horizontalSeam2Remove = 8\n",
    "\n",
    "# Yes, you can create your own test cases and you should. Do it in a new cell."
   ]
  },
  {
   "cell_type": "code",
   "execution_count": 79,
   "id": "b0ce0a29",
   "metadata": {},
   "outputs": [],
   "source": [
    "import numpy as np\n",
    "\n",
    "def load_pgm_as_numpy_array(file_path):\n",
    "    with open(file_path, 'r') as file:\n",
    "        lines = file.readlines()\n",
    "\n",
    "    # Check if the file is in PGM format\n",
    "    if lines[0].strip() != 'P2':\n",
    "        raise ValueError(\"File is not in PGM format (P2)\")\n",
    "\n",
    "    # Extract image dimensions and maximum pixel value\n",
    "    width, height = map(int, lines[2].split())\n",
    "    max_value = int(lines[3])\n",
    "\n",
    "    # Extract pixel values from the remaining lines\n",
    "    pixel_values = []\n",
    "    for line in lines[4:]:\n",
    "        pixel_values.extend(map(int, line.split()))\n",
    "\n",
    "    # Convert pixel values to a numpy array\n",
    "    image_np = np.array(pixel_values).reshape(height, width)\n",
    "\n",
    "    return image_np, max_value\n",
    "\n",
    "def calculate_energy(image):\n",
    "    \"\"\"Calculate energy of each pixel in the image with edge handling.\"\"\"\n",
    "\n",
    "    # Pad the array symmetrically\n",
    "    padded_arr = np.pad(image, pad_width=1, mode='edge')\n",
    "\n",
    "    # Create the final padded array with the desired shape\n",
    "    m, n = image.shape\n",
    "    padded_image = np.zeros((m+2, n+2), dtype=image.dtype)\n",
    "\n",
    "    # Fill the interior of the padded array with values from the original array\n",
    "    padded_image[1:-1, 1:-1] = image\n",
    "\n",
    "    # Fill the boundary of the padded array with edge values\n",
    "    padded_image[0, 1:-1] = padded_arr[0, 1:-1]  # top row\n",
    "    padded_image[-1, 1:-1] = padded_arr[-1, 1:-1]  # bottom row\n",
    "    padded_image[1:-1, 0] = padded_arr[1:-1, 0]  # left column\n",
    "    padded_image[1:-1, -1] = padded_arr[1:-1, -1]  # right column\n",
    "\n",
    "    # Compute gradients in x and y directions\n",
    "    dx = padded_image[1:-1, 2:] - padded_image[1:-1, :-2]  # Difference along x-axis\n",
    "    dy = padded_image[2:, 1:-1] - padded_image[:-2, 1:-1]  # Difference along y-axis\n",
    "\n",
    "    # Calculate energy as the sum of absolute differences in x and y directions\n",
    "    energy = np.abs(dx) + np.abs(dy)\n",
    "\n",
    "    return energy\n",
    "\n",
    "def find_vertical_seam(energy):\n",
    "    \"\"\"Find the vertical seam with the lowest energy using dynamic programming.\"\"\"\n",
    "    rows, cols = energy.shape\n",
    "    seam = []\n",
    "\n",
    "    # Initialize DP table for cumulative minimum energy\n",
    "    dp = np.zeros_like(energy)\n",
    "    dp[0] = energy[0]\n",
    "\n",
    "    # Compute minimum energy seam path\n",
    "    for i in range(1, rows):\n",
    "        for j in range(cols):\n",
    "            # Find the minimum cumulative energy from the top\n",
    "            if j == 0:\n",
    "                dp[i, j] = energy[i, j] + min(dp[i-1, j], dp[i-1, j+1])\n",
    "            elif j == cols - 1:\n",
    "                dp[i, j] = energy[i, j] + min(dp[i-1, j-1], dp[i-1, j])\n",
    "            else:\n",
    "                dp[i, j] = energy[i, j] + min(dp[i-1, j-1], dp[i-1, j], dp[i-1, j+1])\n",
    "\n",
    "    # Trace back the path of the minimum seam\n",
    "    min_energy_index = np.argmin(dp[-1])\n",
    "    seam.append(min_energy_index)\n",
    "\n",
    "    for i in range(rows - 2, -1, -1):\n",
    "        prev_index = seam[-1]\n",
    "        if prev_index == 0:\n",
    "            next_index = np.argmin(dp[i, prev_index:prev_index+2])\n",
    "        else:\n",
    "            next_index = np.argmin(dp[i, prev_index-1:prev_index+2]) + prev_index - 1\n",
    "        seam.append(next_index)\n",
    "\n",
    "    seam.reverse()\n",
    "    return seam\n",
    "\n",
    "def remove_vertical_seam(image, seam):\n",
    "    \"\"\"Remove the vertical seam from the image.\"\"\"\n",
    "    rows, cols = image.shape\n",
    "    new_image = np.zeros((rows, cols - 1), dtype=image.dtype)\n",
    "\n",
    "    for i in range(rows):\n",
    "        # Create a mask to remove the seam pixel\n",
    "        mask = np.ones(cols, dtype=bool)\n",
    "        mask[seam[i]] = False\n",
    "        new_image[i, :] = image[i, mask]\n",
    "\n",
    "    return new_image\n",
    "\n",
    "def seam_carve(image, num_seams):\n",
    "    \"\"\"Perform seam carving on the image.\"\"\"\n",
    "    for _ in range(num_seams):\n",
    "        energy = calculate_energy(image)\n",
    "        seam = find_vertical_seam(energy)\n",
    "        image = remove_vertical_seam(image, seam)\n",
    "\n",
    "    return image\n"
   ]
  },
  {
   "cell_type": "code",
   "execution_count": 80,
   "id": "dad37c88",
   "metadata": {},
   "outputs": [
    {
     "name": "stdout",
     "output_type": "stream",
     "text": [
      "376\n",
      "376\n",
      "376\n",
      "376\n",
      "376\n",
      "376\n",
      "376\n",
      "376\n",
      "376\n",
      "376\n",
      "376\n",
      "376\n",
      "376\n",
      "376\n",
      "376\n",
      "376\n",
      "376\n",
      "376\n",
      "376\n",
      "376\n",
      "Processed image saved as: test/myProcessed/CAS_processed_20_0.pgm\n"
     ]
    }
   ],
   "source": [
    "import os\n",
    "\n",
    "def save_pgm(image_filepath, image_np, max_value, v, h):\n",
    "    \"\"\"Save a numpy array as a PGM file.\"\"\"\n",
    "    base_filename, ext = os.path.splitext(os.path.basename(image_filepath))\n",
    "    output_directory = 'test/myProcessed/'\n",
    "    output_filename = f\"{output_directory}{base_filename}_processed_{v}_{h}.pgm\"\n",
    "\n",
    "    with open(output_filename, 'w') as file:\n",
    "        # Write PGM header\n",
    "        file.write(\"P2\\n\")\n",
    "        file.write(f\"# Created by seam carving \\n\")\n",
    "        file.write(f\"{image_np.shape[1]} {image_np.shape[0]}\\n\")  # Width and height\n",
    "        file.write(f\"{max_value}\\n\")  # Maximum pixel value\n",
    "\n",
    "        # Write pixel values\n",
    "        for row in image_np:\n",
    "            file.write(\" \".join(map(str, row)) + \"\\n\")\n",
    "\n",
    "    print(f\"Processed image saved as: {output_filename}\")\n",
    "\n",
    "def process_image(image_filepath, num_seams):\n",
    "    \"\"\"Process the image by seam carving and save the result.\"\"\"\n",
    "    image_np, max_value = load_pgm_as_numpy_array(image_filepath)\n",
    "    processed_image = seam_carve(image_np, num_seams)  # Perform seam carving\n",
    "\n",
    "    save_pgm(image_filepath, processed_image, max_value, num_seams, 0)  # Save the processed image\n",
    "\n",
    "# User inputs\n",
    "# image_filename = input(\"Enter the image file name: \")\n",
    "# num_seams = int(input(\"Enter the number of vertical seams to remove: \"))\n",
    "\n",
    "# For testing\n",
    "image_filepath = './test/raw/CAS.pgm'\n",
    "vertical_seams = 20\n",
    "\n",
    "# Entry Point for Part I\n",
    "process_image(image_filepath, vertical_seams)\n"
   ]
  },
  {
   "cell_type": "code",
   "execution_count": 30,
   "id": "847c6e82",
   "metadata": {},
   "outputs": [
    {
     "data": {
      "text/plain": [
       "False"
      ]
     },
     "execution_count": 30,
     "metadata": {},
     "output_type": "execute_result"
    }
   ],
   "source": [
    "# Test cell\n",
    "\n",
    "my = \"./test/myProcessed/CAS_processed_20_0.pgm\"\n",
    "correct = \"./test/processed/CAS_processed_20_0.pgm\"\n",
    "\n",
    "import filecmp\n",
    "filecmp.cmp(my, correct)"
   ]
  },
  {
   "cell_type": "code",
   "execution_count": 3,
   "id": "f3da3f06",
   "metadata": {},
   "outputs": [
    {
     "name": "stdout",
     "output_type": "stream",
     "text": [
      "Buchtel_processed_10_8.pgm\n"
     ]
    }
   ],
   "source": [
    "# Part II : both vertical and horizontal seams removal\n",
    "# Save your processed file to img_processed_v_h.pgm\n",
    "filename2 = filename.split(\".\")[0]+\"_processed_\"+ \\\n",
    "            str(verticalSeam2Remove)+\"_\"+str(horizontalSeam2Remove)+\".pgm\"\n",
    "print(filename2)\n",
    "\n",
    "# your code, add cells as you need"
   ]
  },
  {
   "cell_type": "code",
   "execution_count": null,
   "id": "9c1c9ee8",
   "metadata": {},
   "outputs": [],
   "source": []
  },
  {
   "cell_type": "code",
   "execution_count": 4,
   "id": "4dae7220",
   "metadata": {},
   "outputs": [],
   "source": [
    "# This is for graduate students only\n",
    "filenameG = \"flower.ppm\"\n",
    "vSeam2Remove = 20\n",
    "hSeam2Remove = 25"
   ]
  },
  {
   "cell_type": "code",
   "execution_count": 5,
   "id": "03fb8420",
   "metadata": {},
   "outputs": [
    {
     "name": "stdout",
     "output_type": "stream",
     "text": [
      "flower_processed_20_25.ppm\n"
     ]
    }
   ],
   "source": [
    "# This is for graduate students only\n",
    "# Part III : color img in ppm\n",
    "filenameG2 = filenameG.split(\".\")[0]+\"_processed_\"+ \\\n",
    "            str(vSeam2Remove)+\"_\"+str(hSeam2Remove)+\".ppm\"\n",
    "print(filenameG2)\n",
    "# your code, add cells as you need"
   ]
  },
  {
   "cell_type": "code",
   "execution_count": 71,
   "id": "b3133488",
   "metadata": {},
   "outputs": [
    {
     "name": "stdout",
     "output_type": "stream",
     "text": [
      "[[0 2 3 0]\n",
      " [2 2 3 3]\n",
      " [4 4 5 5]\n",
      " [0 4 5 0]]\n",
      "[[1 1]\n",
      " [1 1]]\n",
      "[[2 2]\n",
      " [2 2]]\n",
      "[[3 3]\n",
      " [3 3]]\n"
     ]
    }
   ],
   "source": [
    "def calculate_energy(image):\n",
    "    \"\"\"Calculate energy of each pixel in the image with edge handling.\"\"\"\n",
    "\n",
    "    # Pad the array symmetrically\n",
    "    padded_arr = np.pad(image, pad_width=1, mode='edge')\n",
    "\n",
    "    # Create the final padded array with the desired shape\n",
    "    m, n = image.shape\n",
    "    padded_image = np.zeros((m+2, n+2), dtype=image.dtype)\n",
    "\n",
    "    # Fill the interior of the padded array with values from the original array\n",
    "    padded_image[1:-1, 1:-1] = image\n",
    "\n",
    "    # Fill the boundary of the padded array with edge values\n",
    "    padded_image[0, 1:-1] = padded_arr[0, 1:-1]  # top row\n",
    "    padded_image[-1, 1:-1] = padded_arr[-1, 1:-1]  # bottom row\n",
    "    padded_image[1:-1, 0] = padded_arr[1:-1, 0]  # left column\n",
    "    padded_image[1:-1, -1] = padded_arr[1:-1, -1]  # right column\n",
    "\n",
    "    # Compute gradients in x and y directions\n",
    "    dx = padded_image[1:-1, 2:] - padded_image[1:-1, :-2]  # Difference along x-axis\n",
    "    dy = padded_image[2:, 1:-1] - padded_image[:-2, 1:-1]  # Difference along y-axis\n",
    "\n",
    "    print(padded_image)\n",
    "    print(dx)\n",
    "    print(dy)\n",
    "\n",
    "    # Calculate energy as the sum of absolute differences in x and y directions\n",
    "    energy = np.abs(dx) + np.abs(dy)\n",
    "\n",
    "    return energy\n",
    "\n",
    "# Example usage:\n",
    "image = np.array([[2, 3],\n",
    "                  [4, 5]])\n",
    "\n",
    "energy = calculate_energy(image)\n",
    "print(energy)"
   ]
  }
 ],
 "metadata": {
  "kernelspec": {
   "display_name": "Python 3 (ipykernel)",
   "language": "python",
   "name": "python3"
  },
  "language_info": {
   "codemirror_mode": {
    "name": "ipython",
    "version": 3
   },
   "file_extension": ".py",
   "mimetype": "text/x-python",
   "name": "python",
   "nbconvert_exporter": "python",
   "pygments_lexer": "ipython3",
   "version": "3.11.7"
  }
 },
 "nbformat": 4,
 "nbformat_minor": 5
}
