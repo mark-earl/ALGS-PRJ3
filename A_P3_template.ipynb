{
 "cells": [
  {
   "cell_type": "code",
   "execution_count": null,
   "id": "f7560448",
   "metadata": {},
   "outputs": [],
   "source": [
    "# DO NOT modify this cell.\n",
    "filename = \"Buchtel.pgm\"\n",
    "verticalSeam2Remove = 10\n",
    "horizontalSeam2Remove = 8\n",
    "\n",
    "# Yes, you can create your own test cases and you should. Do it in a new cell."
   ]
  },
  {
   "cell_type": "code",
   "execution_count": 7,
   "id": "b0ce0a29",
   "metadata": {},
   "outputs": [
    {
     "name": "stdout",
     "output_type": "stream",
     "text": [
      "Carved Image:\n",
      "[[  2  70]\n",
      " [155  30]\n",
      " [200 190]\n",
      " [ 10 255]]\n"
     ]
    }
   ],
   "source": [
    "import numpy as np\n",
    "\n",
    "def load_pgm_as_numpy_array(file_path):\n",
    "    with open(file_path, 'r') as file:\n",
    "        lines = file.readlines()\n",
    "\n",
    "    # Check if the file is in PGM format\n",
    "    if lines[0].strip() != 'P2':\n",
    "        raise ValueError(\"File is not in PGM format (P2)\")\n",
    "\n",
    "    # Extract image dimensions and maximum pixel value\n",
    "    width, height = map(int, lines[2].split())\n",
    "    max_value = int(lines[3])\n",
    "\n",
    "    # Extract pixel values from the remaining lines\n",
    "    pixel_values = []\n",
    "    for line in lines[4:]:\n",
    "        pixel_values.extend(map(int, line.split()))\n",
    "\n",
    "    # Convert pixel values to a numpy array\n",
    "    image_np = np.array(pixel_values).reshape(height, width)\n",
    "\n",
    "    return image_np, max_value\n",
    "\n",
    "def calculate_energy(image):\n",
    "    \"\"\"Calculate energy of each pixel in the image with edge handling.\"\"\"\n",
    "    rows, cols = image.shape\n",
    "    energy = np.zeros_like(image)\n",
    "\n",
    "    for y in range(0, rows):\n",
    "        for x in range(0, cols):\n",
    "            energy[y][x] = abs(image[y,x] - image[y-1 if y-1>=0 else 0,x]) + \\\n",
    "                           abs(image[y,x] - image[y+1 if y+1<rows else rows-1,x]) + \\\n",
    "                           abs(image[y,x] - image[y,x-1 if x-1>=0 else 0]) + \\\n",
    "                           abs(image[y,x] - image[y,x+1 if x+1<cols else cols-1])\n",
    "    return energy\n",
    "\n",
    "def calculate_cumulative_energy(energy):\n",
    "    rows, cols = energy.shape\n",
    "    cumulative_energy = np.zeros_like(energy)\n",
    "\n",
    "    # Copy the first row of energy into cumulative_energy\n",
    "    cumulative_energy[0, :] = energy[0, :]\n",
    "\n",
    "    # Fill in the rest of the cumulative energy matrix\n",
    "    for y in range(1, rows): # Start from the second row\n",
    "        for x in range(0, cols):\n",
    "            cumulative_energy[y][x] = min(energy[y][x] + cumulative_energy[y-1][x-1] if x-1>=0 else float('inf'),\n",
    "                                          energy[y][x] + cumulative_energy[y-1][x],\n",
    "                                          energy[y][x] + cumulative_energy[y-1][x+1] if x+1<cols else float('inf'))\n",
    "\n",
    "    return cumulative_energy\n",
    "\n",
    "def seam_carve(image):\n",
    "    \"\"\"Perform seam carving on the image.\"\"\"\n",
    "    energy = calculate_energy(image)\n",
    "    cumulative_energy = calculate_cumulative_energy(energy)\n",
    "\n",
    "    rows, cols = image.shape\n",
    "\n",
    "    # Find the minimum value in the last row of cumulative_energy\n",
    "    min_value_x = np.argmin(cumulative_energy[-1, :])\n",
    "\n",
    "    # Initialize seam path to store the indices of pixels to be removed\n",
    "    seam_path = []\n",
    "\n",
    "    # Trace back to find the seam path\n",
    "    for y in range(rows-1, -1, -1):\n",
    "        seam_path.append((y, min_value_x))\n",
    "\n",
    "        # Determine the next column index for the seam path\n",
    "        if y >= 0:\n",
    "\n",
    "            # x indices of the three possible pixels in the row above\n",
    "            up_left_x = min_value_x - 1\n",
    "            up_x = min_value_x\n",
    "            up_right_x = min_value_x + 1\n",
    "\n",
    "            # values of the three possible pixels in the row above\n",
    "            up_left = cumulative_energy[y-1][up_left_x] if up_left_x >= 0 else float('inf')\n",
    "            up = cumulative_energy[y-1][up_x]\n",
    "            up_right = cumulative_energy[y-1][up_right_x] if up_right_x < cols else float ('inf')\n",
    "\n",
    "            # get the min value\n",
    "            min_value = min(up_left, up, up_right)\n",
    "\n",
    "            # piroritize up_left first\n",
    "            if(min_value == up_left):min_value_x = up_left_x\n",
    "            elif(min_value == up):min_value_x = up_x\n",
    "            elif(min_value == up_right):min_value_x = up_right_x\n",
    "            else: raise Exception(\"No minium value found in row above\")\n",
    "\n",
    "    # Create a copy of the image without the pixels in the seam path\n",
    "    carved_image = np.zeros((rows, cols - 1), dtype=image.dtype)\n",
    "    for y, x in seam_path:\n",
    "        # Exclude the pixel at (y, x) from the image\n",
    "        carved_image[y, :] = np.delete(image[y, :], x, axis=0)\n",
    "\n",
    "    return carved_image\n",
    "\n",
    "image = np.array([\n",
    "    [2, 10, 70],\n",
    "    [155, 30, 10],\n",
    "    [200, 190, 120],\n",
    "    [10, 255, 60]\n",
    "])\n",
    "\n",
    "# Perform seam carving on the image\n",
    "carved_image = seam_carve(image)\n",
    "\n",
    "# Display the resulting carved image\n",
    "print(\"Carved Image:\")\n",
    "print(carved_image)"
   ]
  },
  {
   "cell_type": "code",
   "execution_count": 2,
   "id": "dad37c88",
   "metadata": {},
   "outputs": [
    {
     "name": "stdout",
     "output_type": "stream",
     "text": [
      "Processed image saved as: test/myProcessed/CAS_processed_20_0.pgm\n"
     ]
    }
   ],
   "source": [
    "import os\n",
    "\n",
    "def save_pgm(image_filepath, image_np, max_value, v, h):\n",
    "    \"\"\"Save a numpy array as a PGM file.\"\"\"\n",
    "    base_filename, ext = os.path.splitext(os.path.basename(image_filepath))\n",
    "    output_directory = 'test/myProcessed/'\n",
    "    output_filename = f\"{output_directory}{base_filename}_processed_{v}_{h}.pgm\"\n",
    "\n",
    "    with open(output_filename, 'w') as file:\n",
    "        # Write PGM header\n",
    "        file.write(\"P2\\n\")\n",
    "        file.write(f\"# Created by IrfanView\\n\")\n",
    "        file.write(f\"{image_np.shape[1]} {image_np.shape[0]}\\n\")  # Width and height\n",
    "        file.write(f\"{max_value}\\n\")  # Maximum pixel value\n",
    "\n",
    "        # Write pixel values\n",
    "        for row in image_np:\n",
    "            file.write(\" \".join(map(str, row)) + \"\\n\")\n",
    "\n",
    "    print(f\"Processed image saved as: {output_filename}\")\n",
    "\n",
    "def process_image(image_filepath, num_seams):\n",
    "    \"\"\"Process the image by seam carving and save the result.\"\"\"\n",
    "    image_np, max_value = load_pgm_as_numpy_array(image_filepath)\n",
    "    # Perform seam carving 'num_seams' times\n",
    "    for i in range(num_seams):\n",
    "        image_np = seam_carve(image_np)  # Seam carve the image\n",
    "    save_pgm(image_filepath, image_np, max_value, num_seams, 0)  # Save the processed image\n",
    "\n",
    "# User inputs\n",
    "# image_filename = input(\"Enter the image file name: \")\n",
    "# num_seams = int(input(\"Enter the number of vertical seams to remove: \"))\n",
    "\n",
    "# For testing\n",
    "image_filepath = './test/raw/CAS.pgm'\n",
    "vertical_seams = 20\n",
    "\n",
    "# Entry Point for Part I\n",
    "process_image(image_filepath, vertical_seams)\n"
   ]
  },
  {
   "cell_type": "code",
   "execution_count": 13,
   "id": "847c6e82",
   "metadata": {},
   "outputs": [
    {
     "name": "stdout",
     "output_type": "stream",
     "text": [
      "False False\n"
     ]
    }
   ],
   "source": [
    "# Test cell\n",
    "\n",
    "my = \"./test/myProcessed/CAS_processed_20_0.pgm\"\n",
    "correct = \"./test/processed/CAS_processed_20_0.pgm\"\n",
    "\n",
    "import filecmp\n",
    "same = filecmp.cmp(my, correct)\n",
    "print(same, same)"
   ]
  },
  {
   "cell_type": "code",
   "execution_count": null,
   "id": "f3da3f06",
   "metadata": {},
   "outputs": [],
   "source": [
    "# Part II : both vertical and horizontal seams removal\n",
    "# Save your processed file to img_processed_v_h.pgm\n",
    "filename2 = filename.split(\".\")[0]+\"_processed_\"+ \\\n",
    "            str(verticalSeam2Remove)+\"_\"+str(horizontalSeam2Remove)+\".pgm\"\n",
    "print(filename2)\n",
    "\n",
    "# your code, add cells as you need"
   ]
  },
  {
   "cell_type": "code",
   "execution_count": null,
   "id": "9c1c9ee8",
   "metadata": {},
   "outputs": [],
   "source": []
  },
  {
   "cell_type": "code",
   "execution_count": null,
   "id": "4dae7220",
   "metadata": {},
   "outputs": [],
   "source": [
    "# This is for graduate students only\n",
    "filenameG = \"flower.ppm\"\n",
    "vSeam2Remove = 20\n",
    "hSeam2Remove = 25"
   ]
  },
  {
   "cell_type": "code",
   "execution_count": null,
   "id": "03fb8420",
   "metadata": {},
   "outputs": [],
   "source": [
    "# This is for graduate students only\n",
    "# Part III : color img in ppm\n",
    "filenameG2 = filenameG.split(\".\")[0]+\"_processed_\"+ \\\n",
    "            str(vSeam2Remove)+\"_\"+str(hSeam2Remove)+\".ppm\"\n",
    "print(filenameG2)\n",
    "# your code, add cells as you need"
   ]
  }
 ],
 "metadata": {
  "kernelspec": {
   "display_name": "Python 3 (ipykernel)",
   "language": "python",
   "name": "python3"
  },
  "language_info": {
   "codemirror_mode": {
    "name": "ipython",
    "version": 3
   },
   "file_extension": ".py",
   "mimetype": "text/x-python",
   "name": "python",
   "nbconvert_exporter": "python",
   "pygments_lexer": "ipython3",
   "version": "3.11.9"
  }
 },
 "nbformat": 4,
 "nbformat_minor": 5
}
