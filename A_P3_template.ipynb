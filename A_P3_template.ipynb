{
 "cells": [
  {
   "cell_type": "code",
   "execution_count": null,
   "id": "f7560448",
   "metadata": {},
   "outputs": [],
   "source": [
    "# DO NOT modify this cell.\n",
    "filename = \"Buchtel.pgm\"\n",
    "verticalSeam2Remove = 10\n",
    "horizontalSeam2Remove = 8\n",
    "\n",
    "# Yes, you can create your own test cases and you should. Do it in a new cell."
   ]
  },
  {
   "cell_type": "code",
   "execution_count": 65,
   "id": "b0ce0a29",
   "metadata": {},
   "outputs": [
    {
     "name": "stdout",
     "output_type": "stream",
     "text": [
      "[[161  88 120]\n",
      " [323 325 190]\n",
      " [245 305 240]\n",
      " [435 505 255]]\n",
      "[[ 161   88  120]\n",
      " [ 411  413  278]\n",
      " [ 656  583  518]\n",
      " [1018 1023  773]]\n"
     ]
    }
   ],
   "source": [
    "import numpy as np\n",
    "\n",
    "def load_pgm_as_numpy_array(file_path):\n",
    "    with open(file_path, 'r') as file:\n",
    "        lines = file.readlines()\n",
    "\n",
    "    # Check if the file is in PGM format\n",
    "    if lines[0].strip() != 'P2':\n",
    "        raise ValueError(\"File is not in PGM format (P2)\")\n",
    "\n",
    "    # Extract image dimensions and maximum pixel value\n",
    "    width, height = map(int, lines[2].split())\n",
    "    max_value = int(lines[3])\n",
    "\n",
    "    # Extract pixel values from the remaining lines\n",
    "    pixel_values = []\n",
    "    for line in lines[4:]:\n",
    "        pixel_values.extend(map(int, line.split()))\n",
    "\n",
    "    # Convert pixel values to a numpy array\n",
    "    image_np = np.array(pixel_values).reshape(height, width)\n",
    "\n",
    "    return image_np, max_value\n",
    "\n",
    "def calculate_energy(image):\n",
    "    \"\"\"Calculate energy of each pixel in the image with edge handling.\"\"\"\n",
    "    rows, cols = image.shape\n",
    "    energy = np.zeros_like(image)\n",
    "\n",
    "    for y in range(0, rows):\n",
    "        for x in range(0, cols):\n",
    "            energy[y][x] = abs(image[y,x] - image[y-1 if y-1>=0 else 0,x]) + \\\n",
    "                           abs(image[y,x] - image[y+1 if y+1<rows else rows-1,x]) + \\\n",
    "                           abs(image[y,x] - image[y,x-1 if x-1>=0 else 0]) + \\\n",
    "                           abs(image[y,x] - image[y,x+1 if x+1<cols else cols-1])\n",
    "    return energy\n",
    "\n",
    "def calculate_cumulative_energy(energy):\n",
    "    rows, cols = energy.shape\n",
    "    cumulative_energy = np.zeros_like(energy)\n",
    "\n",
    "    # Copy the first row of energy into cumulative_energy\n",
    "    cumulative_energy[0, :] = energy[0, :]\n",
    "\n",
    "    # Fill in the rest of the cumulative energy matrix\n",
    "    for y in range(1, rows): # Start from the second row\n",
    "        for x in range(0, cols):\n",
    "            cumulative_energy[y][x] = min(\n",
    "                                      energy[y][x] + cumulative_energy[y-1][x-1] if x-1>=0 else float('inf'),\n",
    "                                      energy[y][x] + cumulative_energy[y-1][x],\n",
    "                                      energy[y][x] + cumulative_energy[y-1][x+1] if x+1<cols else float('inf'))\n",
    "\n",
    "    return cumulative_energy\n",
    "\n",
    "def seam_carve(image):\n",
    "    \"\"\"Perform seam carving on the image.\"\"\"\n",
    "    energy = calculate_energy(image)\n",
    "    cumulative_energy = calculate_cumulative_energy(energy)\n",
    "    print(energy)\n",
    "    print(cumulative_energy)\n",
    "\n",
    "# Define the image numpy array\n",
    "img = np.array([\n",
    "    [2, 10, 70],\n",
    "    [155, 30, 10],\n",
    "    [200, 190, 120],\n",
    "    [10, 255, 60]\n",
    "]);\n",
    "\n",
    "seam_carve(img, 0)\n"
   ]
  },
  {
   "cell_type": "code",
   "execution_count": null,
   "id": "dad37c88",
   "metadata": {},
   "outputs": [],
   "source": [
    "import os\n",
    "\n",
    "def save_pgm(image_filepath, image_np, max_value, v, h):\n",
    "    \"\"\"Save a numpy array as a PGM file.\"\"\"\n",
    "    base_filename, ext = os.path.splitext(os.path.basename(image_filepath))\n",
    "    output_directory = 'test/myProcessed/'\n",
    "    output_filename = f\"{output_directory}{base_filename}_processed_{v}_{h}.pgm\"\n",
    "\n",
    "    with open(output_filename, 'w') as file:\n",
    "        # Write PGM header\n",
    "        file.write(\"P2\\n\")\n",
    "        file.write(f\"# Created by seam carving \\n\")\n",
    "        file.write(f\"{image_np.shape[1]} {image_np.shape[0]}\\n\")  # Width and height\n",
    "        file.write(f\"{max_value}\\n\")  # Maximum pixel value\n",
    "\n",
    "        # Write pixel values\n",
    "        for row in image_np:\n",
    "            file.write(\" \".join(map(str, row)) + \"\\n\")\n",
    "\n",
    "    print(f\"Processed image saved as: {output_filename}\")\n",
    "\n",
    "def process_image(image_filepath, num_seams):\n",
    "    \"\"\"Process the image by seam carving and save the result.\"\"\"\n",
    "    image_np, max_value = load_pgm_as_numpy_array(image_filepath)\n",
    "    processed_image = seam_carve(image_np, num_seams)  # Perform seam carving\n",
    "\n",
    "    save_pgm(image_filepath, processed_image, max_value, num_seams, 0)  # Save the processed image\n",
    "\n",
    "# User inputs\n",
    "# image_filename = input(\"Enter the image file name: \")\n",
    "# num_seams = int(input(\"Enter the number of vertical seams to remove: \"))\n",
    "\n",
    "# For testing\n",
    "image_filepath = './test/raw/CAS.pgm'\n",
    "vertical_seams = 20\n",
    "\n",
    "# Entry Point for Part I\n",
    "process_image(image_filepath, vertical_seams)\n"
   ]
  },
  {
   "cell_type": "code",
   "execution_count": null,
   "id": "847c6e82",
   "metadata": {},
   "outputs": [],
   "source": [
    "# Test cell\n",
    "\n",
    "my = \"./test/myProcessed/CAS_processed_20_0.pgm\"\n",
    "correct = \"./test/processed/CAS_processed_20_0.pgm\"\n",
    "\n",
    "import filecmp\n",
    "filecmp.cmp(my, correct)"
   ]
  },
  {
   "cell_type": "code",
   "execution_count": null,
   "id": "f3da3f06",
   "metadata": {},
   "outputs": [],
   "source": [
    "# Part II : both vertical and horizontal seams removal\n",
    "# Save your processed file to img_processed_v_h.pgm\n",
    "filename2 = filename.split(\".\")[0]+\"_processed_\"+ \\\n",
    "            str(verticalSeam2Remove)+\"_\"+str(horizontalSeam2Remove)+\".pgm\"\n",
    "print(filename2)\n",
    "\n",
    "# your code, add cells as you need"
   ]
  },
  {
   "cell_type": "code",
   "execution_count": null,
   "id": "9c1c9ee8",
   "metadata": {},
   "outputs": [],
   "source": []
  },
  {
   "cell_type": "code",
   "execution_count": null,
   "id": "4dae7220",
   "metadata": {},
   "outputs": [],
   "source": [
    "# This is for graduate students only\n",
    "filenameG = \"flower.ppm\"\n",
    "vSeam2Remove = 20\n",
    "hSeam2Remove = 25"
   ]
  },
  {
   "cell_type": "code",
   "execution_count": null,
   "id": "03fb8420",
   "metadata": {},
   "outputs": [],
   "source": [
    "# This is for graduate students only\n",
    "# Part III : color img in ppm\n",
    "filenameG2 = filenameG.split(\".\")[0]+\"_processed_\"+ \\\n",
    "            str(vSeam2Remove)+\"_\"+str(hSeam2Remove)+\".ppm\"\n",
    "print(filenameG2)\n",
    "# your code, add cells as you need"
   ]
  }
 ],
 "metadata": {
  "kernelspec": {
   "display_name": "Python 3 (ipykernel)",
   "language": "python",
   "name": "python3"
  },
  "language_info": {
   "codemirror_mode": {
    "name": "ipython",
    "version": 3
   },
   "file_extension": ".py",
   "mimetype": "text/x-python",
   "name": "python",
   "nbconvert_exporter": "python",
   "pygments_lexer": "ipython3",
   "version": "3.11.7"
  }
 },
 "nbformat": 4,
 "nbformat_minor": 5
}
